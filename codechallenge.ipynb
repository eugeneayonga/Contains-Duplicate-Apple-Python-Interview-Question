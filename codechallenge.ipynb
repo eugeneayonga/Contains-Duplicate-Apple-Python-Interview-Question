{
 "cells": [
  {
   "cell_type": "code",
   "execution_count": 5,
   "metadata": {},
   "outputs": [
    {
     "name": "stdout",
     "output_type": "stream",
     "text": [
      "True\n",
      "False\n"
     ]
    }
   ],
   "source": [
    "\"\"\"Contains Duplicate [Apple Python Interview Question]\n",
    "\n",
    "Given an list of integers called input, return True if any value appears at least \n",
    "twice in the array. Return False if every element in the input list is distinct.\n",
    "\n",
    "For example, if the input list was [1,3,5,7,1], then return True because the \n",
    "number 1 shows up twice.\n",
    "\n",
    "However, if the input was [1,3,5,7] then return False, because every element of \n",
    "the list is distinct.\n",
    "\n",
    "\"\"\"\n",
    "\n",
    "# Function definition\n",
    "def contains_duplicate(input)-> bool:\n",
    "  \n",
    "    # Set to store found items\n",
    "  found_item = set()\n",
    "  \n",
    "    # Iteration --> input list\n",
    "  for item in input:\n",
    "    if item in found_item:\n",
    "      return True\n",
    "    else:\n",
    "      found_item.add(item)\n",
    "  return False\n",
    "\n",
    "# Test Cases\n",
    "print(contains_duplicate([1,3,5,7,1]))\n",
    "print(contains_duplicate([1,3,5,7]))"
   ]
  }
 ],
 "metadata": {
  "kernelspec": {
   "display_name": "Python 3",
   "language": "python",
   "name": "python3"
  },
  "language_info": {
   "codemirror_mode": {
    "name": "ipython",
    "version": 3
   },
   "file_extension": ".py",
   "mimetype": "text/x-python",
   "name": "python",
   "nbconvert_exporter": "python",
   "pygments_lexer": "ipython3",
   "version": "3.9.6"
  }
 },
 "nbformat": 4,
 "nbformat_minor": 2
}
